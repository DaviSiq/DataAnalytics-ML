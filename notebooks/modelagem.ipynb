{
 "cells": [
  {
   "cell_type": "markdown",
   "id": "1daea395",
   "metadata": {},
   "source": [
    "### Predictive modeling of Orders (Order_payment, review, items and Orders)\n"
   ]
  },
  {
   "cell_type": "code",
   "execution_count": null,
   "id": "1e91bf41",
   "metadata": {},
   "outputs": [],
   "source": [
    "import pandas as pd\n",
    "import snowflake.connector\n",
    "import os\n",
    "from dotenv import load_dotenv\n",
    "from pathlib import Path\n",
    "#Carrega as variáveis de ambiente (necessário se você não fez isso na sessão)\n",
    "load_dotenv(dotenv_path=Path('.') / 'environment.env')\n",
    "SF_USER = os.getenv(\"SF_USER\")\n",
    "SF_PASSWORD = os.getenv(\"SF_PASSWORD\")\n",
    "SF_ACCOUNT = os.getenv(\"SF_ACCOUNT\")\n",
    "SF_WAREHOUSE = os.getenv(\"SF_WAREHOUSE\")\n",
    "SF_DATABASE = os.getenv(\"SF_DATABASE\")\n",
    "SF_SCHEMA = os.getenv(\"SF_SCHEMA\")\n",
    "\n",
    "# Conecta ao Snowflake\n",
    "conn = snowflake.connector.connect(\n",
    "    user=SF_USER,\n",
    "    password=SF_PASSWORD,\n",
    "    account=SF_ACCOUNT,\n",
    "    warehouse=SF_WAREHOUSE,\n",
    "    database=SF_DATABASE,\n",
    "    schema=SF_SCHEMA\n",
    ")\n",
    "\n",
    "# Carrega as tabelas\n",
    "print(\"Carregando tabelas do Snowflake...\")\n",
    "df_orders = pd.read_sql(\"SELECT * FROM orders_refined\", conn)\n",
    "df_orders_reviews = pd.read_sql(\"SELECT * FROM order_reviews_refined\", conn)\n",
    "df_order_payments = pd.read_sql(\"SELECT * FROM order_payments_refined\", conn)\n",
    "df_order_items = pd.read_sql(\"SELECT * FROM order_items_refined\", conn)\n",
    "\n",
    "# Fecha a conexão\n",
    "conn.close()\n",
    "\n",
    "# Padroniza os nomes das colunas\n",
    "for df in [df_orders, df_orders_reviews, df_order_payments, df_order_items]:\n",
    "    df.columns = df.columns.str.lower()\n",
    "\n",
    "# Realiza as junções sequenciais\n",
    "print(\"Unindo as tabelas...\")\n",
    "df_full_orders = df_orders.merge(df_orders_reviews, on='order_id', how='left')\n",
    "df_full_orders = df_full_orders.merge(df_order_payments, on='order_id', how='left')\n",
    "df_full_orders = df_full_orders.merge(df_order_items, on='order_id', how='left')\n",
    "\n",
    "print(\"Junção completa. O DataFrame final tem o formato:\", df_full_orders.shape)\n",
    "print(df_full_orders.head())"
   ]
  }
 ],
 "metadata": {
  "kernelspec": {
   "display_name": "Python 3",
   "language": "python",
   "name": "python3"
  },
  "language_info": {
   "codemirror_mode": {
    "name": "ipython",
    "version": 3
   },
   "file_extension": ".py",
   "mimetype": "text/x-python",
   "name": "python",
   "nbconvert_exporter": "python",
   "pygments_lexer": "ipython3",
   "version": "3.12.4"
  }
 },
 "nbformat": 4,
 "nbformat_minor": 5
}
